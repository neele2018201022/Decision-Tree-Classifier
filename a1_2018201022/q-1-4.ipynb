{
 "cells": [
  {
   "cell_type": "code",
   "execution_count": 1,
   "metadata": {},
   "outputs": [],
   "source": [
    "import numpy as np\n",
    "import pandas as pd\n",
    "import pprint\n",
    "import numpy as np\n",
    "import matplotlib.pyplot as plt\n",
    "from sklearn.model_selection import train_test_split\n",
    "eps = np.finfo(float).eps\n",
    "import math\n",
    "from numpy import log2 as log\n",
    "\n",
    "df =pd.read_csv('/home/neelesh/Downloads/train.csv')\n",
    "df = df[['satisfaction_level','last_evaluation','number_project','average_montly_hours','time_spend_company','Work_accident','promotion_last_5years','salary','sales','left']]\n",
    "df.salary.replace(('low', 'medium','high'), (0,1,2), inplace=True)\n",
    "df.sales.replace(('sales', 'accounting','technical','management','IT','product_mng','hr','marketing','RandD','support'), (0,1,2,3,4,5,6,7,8,9), inplace=True)"
   ]
  },
  {
   "cell_type": "code",
   "execution_count": 2,
   "metadata": {},
   "outputs": [],
   "source": [
    "def find_entropy(df):\n",
    "    entropy_node = 0 \n",
    "    values = df.left.unique() \n",
    "    for value in values:\n",
    "        fraction = float(df.left.value_counts()[value])/len(df.left) \n",
    "        entropy_node += -fraction*np.log2(fraction+eps) \n",
    "    return entropy_node"
   ]
  },
  {
   "cell_type": "code",
   "execution_count": 3,
   "metadata": {},
   "outputs": [],
   "source": [
    "def find_entropy_attribute(df,attribute):\n",
    "    target_variables = df.left.unique() \n",
    "    df=df.sort_values(attribute)\n",
    "    arr=np.array(df[attribute])\n",
    "    minentropy=None\n",
    "    ans=None\n",
    "    mydict=[]\n",
    "    for i in range(0,len(arr)-1):\n",
    "            val=(arr[i]+arr[i+1])/2.0\n",
    "            if(val in mydict):\n",
    "                continue\n",
    "            else:\n",
    "                mydict.append(val)\n",
    " \n",
    "            temp=df[[attribute,'left']]\n",
    "            larr=df.loc[df[attribute]<=val]\n",
    "            rarr=df.loc[df[attribute]>val]\n",
    "            left_zero=len(larr[(larr['left']==0)])\n",
    "            left_one=len(larr[(larr['left']==1)])\n",
    "            right_zero=len(rarr[(rarr['left']==0)])\n",
    "            right_one=len(rarr[(rarr['left']==1)])\n",
    "\n",
    "            fraction1=float(left_zero)/(left_zero+left_one+eps)\n",
    "            E=(fraction1*np.log2(fraction1+eps))            \n",
    "            E+=(1-fraction1)*np.log2(1-fraction1+eps)\n",
    "            E*=-1        \n",
    "            fraction2=float(left_zero+left_one)/len(df)\n",
    "            I=fraction2*E\n",
    "    \n",
    "\n",
    "            fraction1=float(right_zero)/(right_zero+right_one+eps)\n",
    "            E=(fraction1*np.log2(fraction1+eps))      \n",
    "            E+=((1-fraction1)*np.log2(1-fraction1+eps))\n",
    "            E*=-1           \n",
    "            fraction2=float(right_zero+right_one)/len(df)\n",
    "            I+=fraction2*E\n",
    "\n",
    "            if(minentropy is None or I<minentropy):\n",
    "                minentropy=I\n",
    "                ans=val  \n",
    "    return ans,minentropy"
   ]
  },
  {
   "cell_type": "code",
   "execution_count": 4,
   "metadata": {},
   "outputs": [],
   "source": [
    "def find_best_attribute(df,prev=None):\n",
    "    maxgain=None\n",
    "    ans=None\n",
    "    E=find_entropy(df)\n",
    "    for key in df.keys()[:-1]:\n",
    "         if(prev is None or key!=prev):\n",
    "                breakpoint,I=find_entropy_attribute(df,key)\n",
    "                Gain=(E-I)\n",
    "                if(maxgain is None or Gain>maxgain):\n",
    "                                 maxgain=Gain\n",
    "                                 ans=key\n",
    "                                 maxbreak=breakpoint\n",
    "    return ans"
   ]
  },
  {
   "cell_type": "code",
   "execution_count": 5,
   "metadata": {},
   "outputs": [],
   "source": [
    "node1=find_best_attribute(df)\n",
    "node2=find_best_attribute(df,node1)"
   ]
  },
  {
   "cell_type": "code",
   "execution_count": 6,
   "metadata": {},
   "outputs": [
    {
     "data": {
      "image/png": "[encoded data removed]",
      "text/plain": [
       "<matplotlib.figure.Figure at 0x7fe6205c7dd0>"
      ]
     },
     "metadata": {
      "needs_background": "light"
     },
     "output_type": "display_data"
    }
   ],
   "source": [
    "X_data=df.loc[df['left']==0]\n",
    "x=np.array(X_data[node1])\n",
    "y=np.array(X_data[node2])\n",
    "\n",
    "X_data=df.loc[df['left']==1]\n",
    "x1=np.array(X_data[node1])\n",
    "y1=np.array(X_data[node2])\n",
    "\n",
    "colors = (0,1,0)\n",
    "colors1 = (1,0,0)\n",
    "area = np.pi*4\n",
    "plt.scatter(x, y, s=area, c=colors, alpha=0.5)\n",
    "plt.scatter(x1, y1, s=area, c=colors1, alpha=0.5)\n",
    "plt.title('Decision tree boundary')\n",
    "plt.xlabel(node1)\n",
    "plt.ylabel(node2)\n",
    "plt.show()"
   ]
  }
 ],
 "metadata": {
  "kernelspec": {
   "display_name": "Python 2",
   "language": "python",
   "name": "python2"
  },
  "language_info": {
   "codemirror_mode": {
    "name": "ipython",
    "version": 2
   },
   "file_extension": ".py",
   "mimetype": "text/x-python",
   "name": "python",
   "nbconvert_exporter": "python",
   "pygments_lexer": "ipython2",
   "version": "2.7.15rc1"
  }
 },
 "nbformat": 4,
 "nbformat_minor": 2
}
